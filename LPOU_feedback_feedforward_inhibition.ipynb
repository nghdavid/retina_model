{
 "cells": [
  {
   "cell_type": "code",
   "execution_count": 1,
   "metadata": {},
   "outputs": [],
   "source": [
    "#u is cone\n",
    "#z is horizontal\n",
    "#v is bipolar"
   ]
  },
  {
   "cell_type": "code",
   "execution_count": 2,
   "metadata": {},
   "outputs": [],
   "source": [
    "import numpy as np\n",
    "import matplotlib.pyplot as plt\n",
    "from mpl_toolkits import mplot3d\n",
    "import math\n",
    "from scipy import signal\n",
    "from scipy.fftpack import fft\n",
    "from scipy import ndimage\n",
    "from scipy import special\n",
    "%matplotlib inline"
   ]
  },
  {
   "cell_type": "code",
   "execution_count": 3,
   "metadata": {},
   "outputs": [],
   "source": [
    "# using numpy's histogram2d to calculate the mutual information between two sequences\n",
    "def mi_quick(a,b,d,bn=6):\n",
    "    if d>0: xy,_,_ = np.histogram2d(a[d:],b[:-d],bn)\n",
    "    elif d<0: xy,_,_ = np.histogram2d(a[:d],b[-d:],bn)\n",
    "    else: xy,_,_ = np.histogram2d(a,b,bn)\n",
    "    xy /= np.sum(xy)\n",
    "    px = [np.array([max(x,1e-100) for x in np.sum(xy,axis=0)])]\n",
    "    py = np.transpose([[max(x,1e-100) for x in np.sum(xy,axis=1)]])\n",
    "    nxy = (xy/px)/py\n",
    "    nxy[nxy==0] = 1e-100\n",
    "    return np.sum(xy*np.log2(nxy))"
   ]
  },
  {
   "cell_type": "code",
   "execution_count": 4,
   "metadata": {},
   "outputs": [],
   "source": [
    "def K(x,s):\n",
    "    return(np.exp(-(x**2/2/s**2)))/s/np.sqrt(2*np.pi)"
   ]
  },
  {
   "cell_type": "code",
   "execution_count": 5,
   "metadata": {},
   "outputs": [],
   "source": [
    "xlen = 2000#spatial extend of simulation\n",
    "dxc = 20/xlen\n",
    "sigma_zu = int(2/dxc)#sigma_zu is horizontal cell receptive field\n",
    "sigma_v = sigma_zu*0.9#sigma_v is bipolar cell receptive field\n",
    "sigma_zv = sigma_zu/5#sigma_zv is horizontal to bipolar cell receptive field size\n",
    "Dynamical_range = 3*sigma_zu\n",
    "##Spatial kernal for horizontal cell\n",
    "klen = int(sigma_zu*3)\n",
    "xx = np.arange(0,klen)\n",
    "khxs = K(xx,sigma_zu)\n",
    "KH = np.zeros(klen*2-1)\n",
    "tmp = khxs[::-1]\n",
    "KH[0:klen]= tmp[0:klen]/dxc\n",
    "KH[klen:2*klen]=khxs[1:klen]/dxc\n",
    "##Spatial kernal for horizontal cell to bipolar cell\n",
    "'''\n",
    "klen = int(sigma_zv*3)\n",
    "xx = np.arange(0,klen)\n",
    "kzvxs = K(xx,sigma_zv)\n",
    "Kzv = np.zeros(klen*2-1)\n",
    "tmp = kzvxs[::-1]\n",
    "Kzv[0:klen]= tmp[0:klen]/dxc\n",
    "Kzv[klen:2*klen]=kzvxs[1:klen]/dxc\n",
    "'''\n",
    "##Spatial kernal for bipolar cell\n",
    "klen = int(sigma_v*3)\n",
    "xx = np.arange(0,klen)\n",
    "kvxs = K(xx,sigma_v)\n",
    "KV = np.zeros(klen*2-1)\n",
    "tmp = kvxs[::-1]\n",
    "KV[0:klen]= tmp[0:klen]/dxc\n",
    "KV[klen:2*klen]=kvxs[1:klen]/dxc"
   ]
  },
  {
   "cell_type": "code",
   "execution_count": 6,
   "metadata": {},
   "outputs": [],
   "source": [
    "hw = int(sigma_zu*18/22)#half of width\n",
    "pos_0 = int(xlen/2)#initial position\n",
    "pos = pos_0\n",
    "nstep = 3000\n",
    "velocity = 300#speed of bar\n",
    "tau_u = 40#time constant of cone\n",
    "tau_z = 2.#time constant of horizontal\n",
    "tau_v = 100#time constant of bipolar\n",
    "k = 40#Tune stimulus input and horizontal feedback\n",
    "g = 2#Tune horizontal cell\n",
    "psy = 0.5\n",
    "p = 100\n",
    "phi = 5\n",
    "total_frequency = [0.5,1,2,4]\n",
    "dms = np.arange(-99,100)\n",
    "total_mi_ss = np.zeros([len(total_frequency),len(dms)])\n",
    "total_mi_su = np.zeros([len(total_frequency),len(dms)])\n",
    "total_mi_sv = np.zeros([len(total_frequency),len(dms)])\n",
    "total_mi_svv = np.zeros([len(total_frequency),len(dms)])\n",
    "total_mi_suu = np.zeros([len(total_frequency),len(dms)])\n",
    "\n"
   ]
  },
  {
   "cell_type": "code",
   "execution_count": 7,
   "metadata": {},
   "outputs": [],
   "source": [
    "dt = 0.01\n",
    "tau= 1\n",
    "D = 27*10**5\n",
    "mu, sigma = 0,1\n",
    "\n",
    "for j in range(len(total_frequency)):\n",
    "    xx = np.arange(0,xlen)\n",
    "    u = np.zeros(xlen)#cone\n",
    "    z = np.zeros(xlen)#horizontal cell\n",
    "    v = np.zeros(xlen)#bipolar cell\n",
    "    speak = np.zeros(nstep)\n",
    "    upeak = np.zeros(nstep)\n",
    "    vpeak = np.zeros(nstep)\n",
    "    total_u = np.zeros([int(xlen),nstep])#total cones\n",
    "    total_v = np.zeros([int(xlen),nstep])#total bipolar cells\n",
    "    total_rzv = np.zeros([int(xlen),nstep])#total horizontal feedforward inhibition to bipolar\n",
    "    total_ruv = np.zeros([int(xlen),nstep])#total horizontal feedback inhibition to cone\n",
    "    zts = np.zeros([int(xlen),nstep])#horizontal\n",
    "    ss = np.zeros([int(xlen),nstep])#bar\n",
    "    OU=np.zeros(nstep)\n",
    "    cutoffFreq = total_frequency[j]\n",
    "    for i in range(nstep-1):\n",
    "        OU[i+1]=OU[i]*(1-dt/tau)+math.sqrt(D*dt)*np.random.normal(mu,sigma)\n",
    "    b, a = signal.butter(2, 2*cutoffFreq*dt, btype='low', analog=False)\n",
    "    LPOU = signal.filtfilt(b, a, OU)\n",
    "    trajectory = (LPOU-min(LPOU))/(max(LPOU)-min(LPOU))*Dynamical_range\n",
    "    trajectory = trajectory-np.mean(trajectory)\n",
    "    #plt.plot(trajectory)\n",
    "    \n",
    "    for i in range(nstep):\n",
    "        pos = pos_0+trajectory[i]\n",
    "        speak[i] = pos\n",
    "        s = np.zeros(xlen)#stimulus\n",
    "        s[int(pos)-hw:int(pos)+hw] = 1\n",
    "        ru = np.convolve(u,KH,'same')*dxc # feedback from horizontal cell\n",
    "        ruv = np.convolve(u,KV,'same')*dxc # input from cone\n",
    "        duj =(-tau_u*u+k*(s-phi*z))*dt#Cone\n",
    "        dzj =(-tau_z*z+g*ru)*dt#horizontal\n",
    "        dvj = (-tau_v*v+p*((1-psy)*ruv-psy*z))*dt#bipolar\n",
    "        u = u+duj\n",
    "        z = z+dzj\n",
    "        v = v+dvj\n",
    "        maxpos = np.argmax(u)\n",
    "        upeak[i]= maxpos\n",
    "        maxpos = np.argmax(v)\n",
    "        vpeak[i]= maxpos\n",
    "        total_u[:,i] = u\n",
    "        total_v[:,i] = v\n",
    "        ss[:,i] = s\n",
    "        zts[:,i] = z\n",
    "        #total_rzv[:,i] = rzv\n",
    "        total_ruv[:,i] = ruv\n",
    "    vv = total_v[pos_0,200:]\n",
    "    uu = total_u[pos_0,200:]\n",
    "    mi_ss = [mi_quick(speak[200:],speak[200:],d) for d in dms]\n",
    "    mi_su = [mi_quick(speak[200:],upeak[200:],d) for d in dms]\n",
    "    mi_sv = [mi_quick(speak[200:],vpeak[200:],d) for d in dms]\n",
    "    mi_svv = [mi_quick(speak[200:],vv,d) for d in dms]\n",
    "    mi_suu = [mi_quick(speak[200:],uu,d) for d in dms]\n",
    "    total_mi_ss[j,:] = mi_ss\n",
    "    total_mi_su[j,:] = mi_su\n",
    "    total_mi_sv[j,:] = mi_sv\n",
    "    total_mi_svv[j,:] = mi_svv\n",
    "    total_mi_suu[j,:] = mi_suu"
   ]
  },
  {
   "cell_type": "code",
   "execution_count": 14,
   "metadata": {},
   "outputs": [
    {
     "name": "stdout",
     "output_type": "stream",
     "text": [
      "bipolar 0.23\n",
      "bipolar 0.11\n",
      "bipolar 0.04\n",
      "bipolar 0.01\n"
     ]
    },
    {
     "data": {
      "image/png": "[encoded data removed]",
      "text/plain": [
       "<Figure size 432x288 with 1 Axes>"
      ]
     },
     "metadata": {
      "needs_background": "light"
     },
     "output_type": "display_data"
    }
   ],
   "source": [
    "for i in range(len(total_frequency)):\n",
    "    plt.plot(dms*dt,total_mi_svv[i,:],label=str(total_frequency[i])+'Hz')\n",
    "    print('bipolar '+str(dms[np.argmax(total_mi_svv[i,:])]*dt))\n",
    "plt.grid()\n",
    "plt.legend()\n",
    "plt.xlabel('Time(s)')\n",
    "plt.ylabel('MI (bits/s)')\n",
    "plt.savefig('different_frequency.jpg')"
   ]
  },
  {
   "cell_type": "code",
   "execution_count": 9,
   "metadata": {},
   "outputs": [
    {
     "data": {
      "text/plain": [
       "199"
      ]
     },
     "execution_count": 9,
     "metadata": {},
     "output_type": "execute_result"
    }
   ],
   "source": [
    "len(mi_ss)"
   ]
  }
 ],
 "metadata": {
  "kernelspec": {
   "display_name": "Python 3",
   "language": "python",
   "name": "python3"
  },
  "language_info": {
   "codemirror_mode": {
    "name": "ipython",
    "version": 3
   },
   "file_extension": ".py",
   "mimetype": "text/x-python",
   "name": "python",
   "nbconvert_exporter": "python",
   "pygments_lexer": "ipython3",
   "version": "3.7.6"
  },
  "toc": {
   "base_numbering": 1,
   "nav_menu": {},
   "number_sections": true,
   "sideBar": true,
   "skip_h1_title": false,
   "title_cell": "Table of Contents",
   "title_sidebar": "Contents",
   "toc_cell": false,
   "toc_position": {},
   "toc_section_display": true,
   "toc_window_display": false
  },
  "varInspector": {
   "cols": {
    "lenName": 16,
    "lenType": 16,
    "lenVar": 40
   },
   "kernels_config": {
    "python": {
     "delete_cmd_postfix": "",
     "delete_cmd_prefix": "del ",
     "library": "var_list.py",
     "varRefreshCmd": "print(var_dic_list())"
    },
    "r": {
     "delete_cmd_postfix": ") ",
     "delete_cmd_prefix": "rm(",
     "library": "var_list.r",
     "varRefreshCmd": "cat(var_dic_list()) "
    }
   },
   "types_to_exclude": [
    "module",
    "function",
    "builtin_function_or_method",
    "instance",
    "_Feature"
   ],
   "window_display": false
  }
 },
 "nbformat": 4,
 "nbformat_minor": 4
}
